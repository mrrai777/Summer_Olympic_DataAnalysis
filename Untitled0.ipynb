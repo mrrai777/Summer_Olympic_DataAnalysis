{
  "nbformat": 4,
  "nbformat_minor": 0,
  "metadata": {
    "colab": {
      "name": "Untitled0.ipynb",
      "provenance": [],
      "collapsed_sections": []
    },
    "kernelspec": {
      "name": "python3",
      "display_name": "Python 3"
    },
    "language_info": {
      "name": "python"
    }
  },
  "cells": [
    {
      "cell_type": "code",
      "metadata": {
        "id": "MREOI2blex5y"
      },
      "source": [
        "import pandas as pd\n",
        "df = pd.read_csv(\"summer_olympic.csv\")\n",
        "df"
      ],
      "execution_count": null,
      "outputs": []
    },
    {
      "cell_type": "markdown",
      "metadata": {
        "id": "XwrkQjdFg-vc"
      },
      "source": [
        "**# 1. In how many cities Summer Olympics is held so far?**"
      ]
    },
    {
      "cell_type": "code",
      "metadata": {
        "id": "SP-Qg6Wcg9BS"
      },
      "source": [
        "len(df['City'].unique())\n",
        "# print(\"Name of Cities are : \\n\")\n",
        "# li = df['City'].unique()\n",
        "# for item in li:\n",
        "#   print(item)"
      ],
      "execution_count": null,
      "outputs": []
    },
    {
      "cell_type": "markdown",
      "metadata": {
        "id": "FwExfpKOh2pB"
      },
      "source": [
        "**#2. Which sport is having most number of Gold Medals so far?(Top 5)**"
      ]
    },
    {
      "cell_type": "code",
      "metadata": {
        "id": "deOEzBBgh_xV"
      },
      "source": [
        "data = df[df['Medal']=='Gold']\n",
        "data.groupby(['Sport','Medal'])\n",
        "li = []\n",
        "for sport in data['Sport'].unique():\n",
        "    li.append([sport,len(data[data['Sport']==sport])])\n",
        "li = pd.DataFrame(li, columns = ['Sport','Gold'])\n",
        "li.sort_values(by = 'Gold', ascending = False).head().plot(x = 'Sport', y = 'Gold', kind = 'bar', figsize = (15,5))"
      ],
      "execution_count": null,
      "outputs": []
    },
    {
      "cell_type": "markdown",
      "metadata": {
        "id": "voymkata_S8n"
      },
      "source": [
        "**# 3. Which sport is having most number of medals so far? (Top 5)**"
      ]
    },
    {
      "cell_type": "code",
      "metadata": {
        "id": "z9HShGcYl9zw"
      },
      "source": [
        "data = df\n",
        "data.groupby(['Sport','Medal'])\n",
        "li = []\n",
        "for sport in data['Sport'].unique():\n",
        "    li.append([sport,len(data[data['Sport']==sport])])\n",
        "li = pd.DataFrame(li,columns = ['Sport','Medal']).sort_values(by = 'Medal', ascending = False)\n",
        "li.head().plot(x = 'Sport', y = 'Medal', kind = 'bar', figsize = (15,5))"
      ],
      "execution_count": null,
      "outputs": []
    },
    {
      "cell_type": "markdown",
      "metadata": {
        "id": "ZMIhAzUSA5NP"
      },
      "source": [
        "**# 4. Which player has won most number of medals? (Top 5)**"
      ]
    },
    {
      "cell_type": "code",
      "metadata": {
        "id": "aEnXcF_TBILx"
      },
      "source": [
        "data = df\n",
        "data.groupby(['Athlete','Medal'])\n",
        "li = []\n",
        "for athlete in data['Athlete'].unique():\n",
        "    li.append([athlete, len(data[data['Athlete']==athlete])])\n",
        "li = pd.DataFrame(li, columns=['Athlete','Medal_count']).sort_values(by = 'Medal_count',ascending = False)\n",
        "li.head().plot(x = 'Athlete', y = 'Medal_count', kind = 'bar',figsize = (15,5))"
      ],
      "execution_count": null,
      "outputs": []
    },
    {
      "cell_type": "markdown",
      "metadata": {
        "id": "cqimOx-vEYy9"
      },
      "source": [
        "**# 5. Which player has won most number Gold Medals of medals? (Top 5)\"**"
      ]
    },
    {
      "cell_type": "code",
      "metadata": {
        "id": "tKyQTHiqEcgo"
      },
      "source": [
        "data = df\n",
        "data = data[data['Medal']=='Gold']\n",
        "li = []\n",
        "for player in data['Athlete'].unique():\n",
        "    li.append([player, len(data[data['Athlete']==player])])\n",
        "li = pd.DataFrame(li, columns=['Player','Gold'])\n",
        "li = li.sort_values(by = 'Gold',ascending=False)\n",
        "li.head().plot(x = 'Player', y = 'Gold', kind = 'bar', figsize=(15,5))"
      ],
      "execution_count": null,
      "outputs": []
    },
    {
      "cell_type": "markdown",
      "metadata": {
        "id": "-CwuIPxUHFpm"
      },
      "source": [
        "**# 6. In which year India won first Gold Medal in Summer Olympics?\"**"
      ]
    },
    {
      "cell_type": "code",
      "metadata": {
        "id": "IhbgZi9vHQdK"
      },
      "source": [
        "data = df\n",
        "data = data[data['Country']=='IND']\n",
        "data = data[data['Medal']=='Gold']\n",
        "data.sort_values(by = 'Year')\n",
        "ans = pd.DataFrame(data['Year'].head(1),columns=['Year'])\n",
        "ans"
      ],
      "execution_count": null,
      "outputs": []
    },
    {
      "cell_type": "markdown",
      "metadata": {
        "id": "q0nPEAMIJ4gk"
      },
      "source": [
        "**# 7. Which event is most popular in terms on number of players? (Top 5)**"
      ]
    },
    {
      "cell_type": "code",
      "metadata": {
        "id": "luX3nNHBJ_hn"
      },
      "source": [
        "data = df\n",
        "li = []\n",
        "for num in data['Event'].unique():\n",
        "    li.append([num, len(data[data['Event']==num])])\n",
        "li = pd.DataFrame(li,columns=['Event','Num_of_Player']).sort_values(by = 'Num_of_Player',ascending= False)\n",
        "li.head().plot(x = 'Event', y = 'Num_of_Player', kind = 'bar', figsize=(15,5))"
      ],
      "execution_count": null,
      "outputs": []
    },
    {
      "cell_type": "markdown",
      "metadata": {
        "id": "MTYjOUyTKcz7"
      },
      "source": [
        "**# 8. Which sport is having most female Gold Medalists? (Top 5)**"
      ]
    },
    {
      "cell_type": "code",
      "metadata": {
        "id": "Y9AUrsxtKf0y"
      },
      "source": [
        "data = df\n",
        "data = data[data['Medal']=='Gold']\n",
        "data = data[data['Gender']=='Women']\n",
        "li = []\n",
        "for sport in data['Sport'].unique():\n",
        "    li.append([sport,len(data[data['Sport']==sport])])\n",
        "data = pd.DataFrame(li,columns=['Sport','No_of_women'])\n",
        "data = data.sort_values(by = 'No_of_women',ascending=False)\n",
        "data.head().plot(x = 'Sport', y = 'No_of_women', kind = 'bar', figsize=(15,5))"
      ],
      "execution_count": null,
      "outputs": []
    }
  ]
}